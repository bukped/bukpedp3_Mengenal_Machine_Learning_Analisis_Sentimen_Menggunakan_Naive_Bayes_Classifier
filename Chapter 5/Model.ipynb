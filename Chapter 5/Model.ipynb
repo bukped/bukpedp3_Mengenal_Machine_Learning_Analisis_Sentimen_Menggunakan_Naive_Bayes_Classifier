{
 "cells": [
  {
   "cell_type": "code",
   "execution_count": 14,
   "id": "47131c41",
   "metadata": {},
   "outputs": [
    {
     "name": "stdout",
     "output_type": "stream",
     "text": [
      "Defaulting to user installation because normal site-packages is not writeable\n",
      "Requirement already satisfied: imblearn in c:\\users\\asus\\appdata\\roaming\\python\\python311\\site-packages (0.0)\n",
      "Requirement already satisfied: imbalanced-learn in c:\\programdata\\anaconda3\\lib\\site-packages (from imblearn) (0.10.1)\n",
      "Requirement already satisfied: numpy>=1.17.3 in c:\\programdata\\anaconda3\\lib\\site-packages (from imbalanced-learn->imblearn) (1.24.3)\n",
      "Requirement already satisfied: scipy>=1.3.2 in c:\\programdata\\anaconda3\\lib\\site-packages (from imbalanced-learn->imblearn) (1.11.1)\n",
      "Requirement already satisfied: scikit-learn>=1.0.2 in c:\\programdata\\anaconda3\\lib\\site-packages (from imbalanced-learn->imblearn) (1.3.0)\n",
      "Requirement already satisfied: joblib>=1.1.1 in c:\\programdata\\anaconda3\\lib\\site-packages (from imbalanced-learn->imblearn) (1.2.0)\n",
      "Requirement already satisfied: threadpoolctl>=2.0.0 in c:\\programdata\\anaconda3\\lib\\site-packages (from imbalanced-learn->imblearn) (2.2.0)\n",
      "Note: you may need to restart the kernel to use updated packages.\n"
     ]
    }
   ],
   "source": [
    "pip install imblearn\n",
    "pip install -U imbalanced-learn"
   ]
  },
  {
   "cell_type": "code",
   "execution_count": 82,
   "id": "7ba1f247",
   "metadata": {},
   "outputs": [
    {
     "name": "stdout",
     "output_type": "stream",
     "text": [
      "Defaulting to user installation because normal site-packages is not writeable\n",
      "Requirement already satisfied: imbalanced-learn in c:\\users\\asus\\appdata\\roaming\\python\\python311\\site-packages (0.11.0)\n",
      "Requirement already satisfied: numpy>=1.17.3 in c:\\programdata\\anaconda3\\lib\\site-packages (from imbalanced-learn) (1.24.3)\n",
      "Requirement already satisfied: scipy>=1.5.0 in c:\\programdata\\anaconda3\\lib\\site-packages (from imbalanced-learn) (1.11.1)\n",
      "Requirement already satisfied: scikit-learn>=1.0.2 in c:\\programdata\\anaconda3\\lib\\site-packages (from imbalanced-learn) (1.3.0)\n",
      "Requirement already satisfied: joblib>=1.1.1 in c:\\programdata\\anaconda3\\lib\\site-packages (from imbalanced-learn) (1.2.0)\n",
      "Requirement already satisfied: threadpoolctl>=2.0.0 in c:\\programdata\\anaconda3\\lib\\site-packages (from imbalanced-learn) (2.2.0)\n",
      "Note: you may need to restart the kernel to use updated packages.\n"
     ]
    }
   ],
   "source": [
    "pip install -U imbalanced-learn"
   ]
  },
  {
   "cell_type": "code",
   "execution_count": null,
   "id": "68d70ad7",
   "metadata": {},
   "outputs": [],
   "source": []
  },
  {
   "cell_type": "code",
   "execution_count": 64,
   "id": "ff074de1",
   "metadata": {},
   "outputs": [],
   "source": [
    "import pandas as pd\n",
    "import numpy as np\n",
    "\n",
    "from sklearn.model_selection import train_test_split\n",
    "from sklearn.metrics import confusion_matrix,classification_report, accuracy_score\n",
    "from sklearn.feature_extraction.text import TfidfVectorizer\n",
    "from sklearn.feature_extraction.text import CountVectorizer\n",
    "from sklearn.naive_bayes import MultinomialNB\n",
    "import matplotlib.pyplot as plt\n",
    "import seaborn as sns"
   ]
  },
  {
   "cell_type": "code",
   "execution_count": null,
   "id": "5f9ca500",
   "metadata": {},
   "outputs": [],
   "source": []
  },
  {
   "cell_type": "code",
   "execution_count": 4,
   "id": "42964969",
   "metadata": {},
   "outputs": [],
   "source": [
    "df_labeling = pd.read_csv('labeling_dataset.csv')"
   ]
  },
  {
   "cell_type": "code",
   "execution_count": null,
   "id": "4ec5fea5",
   "metadata": {},
   "outputs": [],
   "source": []
  },
  {
   "cell_type": "code",
   "execution_count": 5,
   "id": "13f41587",
   "metadata": {},
   "outputs": [
    {
     "data": {
      "text/html": [
       "<div>\n",
       "<style scoped>\n",
       "    .dataframe tbody tr th:only-of-type {\n",
       "        vertical-align: middle;\n",
       "    }\n",
       "\n",
       "    .dataframe tbody tr th {\n",
       "        vertical-align: top;\n",
       "    }\n",
       "\n",
       "    .dataframe thead th {\n",
       "        text-align: right;\n",
       "    }\n",
       "</style>\n",
       "<table border=\"1\" class=\"dataframe\">\n",
       "  <thead>\n",
       "    <tr style=\"text-align: right;\">\n",
       "      <th></th>\n",
       "      <th>textDisplay</th>\n",
       "      <th>clear</th>\n",
       "      <th>translate</th>\n",
       "      <th>label</th>\n",
       "      <th>score</th>\n",
       "      <th>polarity</th>\n",
       "      <th>subjectivity</th>\n",
       "    </tr>\n",
       "  </thead>\n",
       "  <tbody>\n",
       "    <tr>\n",
       "      <th>0</th>\n",
       "      <td>Semoga terwujud Aamiim presiden</td>\n",
       "      <td>semoga terwujud aamiim presiden</td>\n",
       "      <td>Hopefully the Presidential Aamiim will be real...</td>\n",
       "      <td>Netral</td>\n",
       "      <td>0</td>\n",
       "      <td>0.000</td>\n",
       "      <td>0.000000</td>\n",
       "    </tr>\n",
       "    <tr>\n",
       "      <th>1</th>\n",
       "      <td>MANTAPPPP</td>\n",
       "      <td>mantapppp</td>\n",
       "      <td>MANTAPPPP</td>\n",
       "      <td>Netral</td>\n",
       "      <td>0</td>\n",
       "      <td>0.000</td>\n",
       "      <td>0.000000</td>\n",
       "    </tr>\n",
       "    <tr>\n",
       "      <th>2</th>\n",
       "      <td>Anies cocok  jadi Presiden 8&lt;br&gt;Ganteng, amana...</td>\n",
       "      <td>anies cocok jadi presiden ganteng amanah pinta...</td>\n",
       "      <td>Anies is suitable to be a handsome president o...</td>\n",
       "      <td>Positif</td>\n",
       "      <td>1</td>\n",
       "      <td>0.525</td>\n",
       "      <td>0.725000</td>\n",
       "    </tr>\n",
       "    <tr>\n",
       "      <th>3</th>\n",
       "      <td>jujur demi Allah biarkan kalian mengoceh yang ...</td>\n",
       "      <td>jujur allah biarkan kalian mengoceh jadi presi...</td>\n",
       "      <td>Honestly Allah let you blabber in becoming pre...</td>\n",
       "      <td>Positif</td>\n",
       "      <td>1</td>\n",
       "      <td>0.525</td>\n",
       "      <td>0.875000</td>\n",
       "    </tr>\n",
       "    <tr>\n",
       "      <th>4</th>\n",
       "      <td>Sy dukung prabowa krn wakilnya bkan saatnya sk...</td>\n",
       "      <td>sy dukung prabowa krn wakilnya bkan saatnya sk...</td>\n",
       "      <td>I support Prabowa because the representatives ...</td>\n",
       "      <td>Positif</td>\n",
       "      <td>1</td>\n",
       "      <td>0.200</td>\n",
       "      <td>0.366667</td>\n",
       "    </tr>\n",
       "    <tr>\n",
       "      <th>...</th>\n",
       "      <td>...</td>\n",
       "      <td>...</td>\n",
       "      <td>...</td>\n",
       "      <td>...</td>\n",
       "      <td>...</td>\n",
       "      <td>...</td>\n",
       "      <td>...</td>\n",
       "    </tr>\n",
       "    <tr>\n",
       "      <th>132767</th>\n",
       "      <td>Woo...woo , ditipu berkali kali kok masih perc...</td>\n",
       "      <td>woowoo ditipu berkali kali kok percaya sih mikir</td>\n",
       "      <td>Woowoo was cheated many times why I believe in...</td>\n",
       "      <td>Positif</td>\n",
       "      <td>1</td>\n",
       "      <td>0.500</td>\n",
       "      <td>0.500000</td>\n",
       "    </tr>\n",
       "    <tr>\n",
       "      <th>132768</th>\n",
       "      <td>Hoax lagi.....................&lt;a href=\"about:i...</td>\n",
       "      <td>hoax</td>\n",
       "      <td>Hoax</td>\n",
       "      <td>Netral</td>\n",
       "      <td>0</td>\n",
       "      <td>0.000</td>\n",
       "      <td>0.000000</td>\n",
       "    </tr>\n",
       "    <tr>\n",
       "      <th>132769</th>\n",
       "      <td>Nggak salah kok pak, biar sama-sama nyungsep n...</td>\n",
       "      <td>salah kok pak biar samasama nyungsep nantinya</td>\n",
       "      <td>It's wrong, sir, so that you can work together...</td>\n",
       "      <td>Negatif</td>\n",
       "      <td>-1</td>\n",
       "      <td>-0.250</td>\n",
       "      <td>0.450000</td>\n",
       "    </tr>\n",
       "    <tr>\n",
       "      <th>132770</th>\n",
       "      <td>Amin</td>\n",
       "      <td>amin</td>\n",
       "      <td>Amen</td>\n",
       "      <td>Netral</td>\n",
       "      <td>0</td>\n",
       "      <td>0.000</td>\n",
       "      <td>0.000000</td>\n",
       "    </tr>\n",
       "    <tr>\n",
       "      <th>132771</th>\n",
       "      <td>Ada anak yang kepingin wapres malah yang dapat...</td>\n",
       "      <td>anak kepingin wapres malah dapat anak silent</td>\n",
       "      <td>Children want the vice president to get a sile...</td>\n",
       "      <td>Netral</td>\n",
       "      <td>0</td>\n",
       "      <td>0.000</td>\n",
       "      <td>0.100000</td>\n",
       "    </tr>\n",
       "  </tbody>\n",
       "</table>\n",
       "<p>132772 rows × 7 columns</p>\n",
       "</div>"
      ],
      "text/plain": [
       "                                              textDisplay  \\\n",
       "0                         Semoga terwujud Aamiim presiden   \n",
       "1                                               MANTAPPPP   \n",
       "2       Anies cocok  jadi Presiden 8<br>Ganteng, amana...   \n",
       "3       jujur demi Allah biarkan kalian mengoceh yang ...   \n",
       "4       Sy dukung prabowa krn wakilnya bkan saatnya sk...   \n",
       "...                                                   ...   \n",
       "132767  Woo...woo , ditipu berkali kali kok masih perc...   \n",
       "132768  Hoax lagi.....................<a href=\"about:i...   \n",
       "132769  Nggak salah kok pak, biar sama-sama nyungsep n...   \n",
       "132770                                               Amin   \n",
       "132771  Ada anak yang kepingin wapres malah yang dapat...   \n",
       "\n",
       "                                                    clear  \\\n",
       "0                         semoga terwujud aamiim presiden   \n",
       "1                                               mantapppp   \n",
       "2       anies cocok jadi presiden ganteng amanah pinta...   \n",
       "3       jujur allah biarkan kalian mengoceh jadi presi...   \n",
       "4       sy dukung prabowa krn wakilnya bkan saatnya sk...   \n",
       "...                                                   ...   \n",
       "132767   woowoo ditipu berkali kali kok percaya sih mikir   \n",
       "132768                                               hoax   \n",
       "132769      salah kok pak biar samasama nyungsep nantinya   \n",
       "132770                                               amin   \n",
       "132771       anak kepingin wapres malah dapat anak silent   \n",
       "\n",
       "                                                translate    label  score  \\\n",
       "0       Hopefully the Presidential Aamiim will be real...   Netral      0   \n",
       "1                                               MANTAPPPP   Netral      0   \n",
       "2       Anies is suitable to be a handsome president o...  Positif      1   \n",
       "3       Honestly Allah let you blabber in becoming pre...  Positif      1   \n",
       "4       I support Prabowa because the representatives ...  Positif      1   \n",
       "...                                                   ...      ...    ...   \n",
       "132767  Woowoo was cheated many times why I believe in...  Positif      1   \n",
       "132768                                               Hoax   Netral      0   \n",
       "132769  It's wrong, sir, so that you can work together...  Negatif     -1   \n",
       "132770                                               Amen   Netral      0   \n",
       "132771  Children want the vice president to get a sile...   Netral      0   \n",
       "\n",
       "        polarity  subjectivity  \n",
       "0          0.000      0.000000  \n",
       "1          0.000      0.000000  \n",
       "2          0.525      0.725000  \n",
       "3          0.525      0.875000  \n",
       "4          0.200      0.366667  \n",
       "...          ...           ...  \n",
       "132767     0.500      0.500000  \n",
       "132768     0.000      0.000000  \n",
       "132769    -0.250      0.450000  \n",
       "132770     0.000      0.000000  \n",
       "132771     0.000      0.100000  \n",
       "\n",
       "[132772 rows x 7 columns]"
      ]
     },
     "execution_count": 5,
     "metadata": {},
     "output_type": "execute_result"
    }
   ],
   "source": [
    "df_labeling"
   ]
  },
  {
   "cell_type": "code",
   "execution_count": 65,
   "id": "c2ee0119",
   "metadata": {},
   "outputs": [],
   "source": [
    "X = df_labeling['textDisplay']\n",
    "Y = df_labeling['score']"
   ]
  },
  {
   "cell_type": "code",
   "execution_count": 67,
   "id": "7b50ca1d",
   "metadata": {},
   "outputs": [
    {
     "data": {
      "image/png": "[encoded data removed]",
      "text/plain": [
       "<Figure size 600x600 with 1 Axes>"
      ]
     },
     "metadata": {},
     "output_type": "display_data"
    }
   ],
   "source": [
    "# Hitung distribusi hasil prediksi\n",
    "prediction_distribution = pd.DataFrame({'Predicted': Y})\n",
    "prediction_counts = prediction_distribution['Predicted'].value_counts()\n",
    "\n",
    "# Visualisasi Pie Chart\n",
    "plt.figure(figsize=(6, 6))\n",
    "plt.pie(prediction_counts, labels=prediction_counts.index, autopct='%1.1f%%', colors=['skyblue', 'lightcoral','red'])\n",
    "plt.title('Distribution of Predicted Sentiments')\n",
    "plt.show()"
   ]
  },
  {
   "cell_type": "code",
   "execution_count": 66,
   "id": "4fcae1f6",
   "metadata": {},
   "outputs": [],
   "source": [
    "X_train, X_test, Y_train, Y_test = train_test_split(X, Y, test_size = 0.2,random_state=42)"
   ]
  },
  {
   "cell_type": "code",
   "execution_count": 46,
   "id": "decb988d",
   "metadata": {},
   "outputs": [
    {
     "name": "stdout",
     "output_type": "stream",
     "text": [
      "n_samples: 106217, n_features: 67064\n"
     ]
    }
   ],
   "source": [
    "vectorizer = CountVectorizer()\n",
    "\n",
    "tfidf_train_vectors = vectorizer.fit_transform(X_train) \n",
    "tfidf_test_vectors = vectorizer.transform(X_test)\n",
    "print(\"n_samples: %d, n_features: %d\" % tfidf_train_vectors.shape)\n"
   ]
  },
  {
   "cell_type": "code",
   "execution_count": null,
   "id": "6179e788",
   "metadata": {},
   "outputs": [],
   "source": []
  },
  {
   "cell_type": "code",
   "execution_count": null,
   "id": "006761b8",
   "metadata": {},
   "outputs": [],
   "source": []
  },
  {
   "cell_type": "code",
   "execution_count": 47,
   "id": "0882af47",
   "metadata": {},
   "outputs": [
    {
     "data": {
      "text/html": [
       "<style>#sk-container-id-2 {color: black;}#sk-container-id-2 pre{padding: 0;}#sk-container-id-2 div.sk-toggleable {background-color: white;}#sk-container-id-2 label.sk-toggleable__label {cursor: pointer;display: block;width: 100%;margin-bottom: 0;padding: 0.3em;box-sizing: border-box;text-align: center;}#sk-container-id-2 label.sk-toggleable__label-arrow:before {content: \"▸\";float: left;margin-right: 0.25em;color: #696969;}#sk-container-id-2 label.sk-toggleable__label-arrow:hover:before {color: black;}#sk-container-id-2 div.sk-estimator:hover label.sk-toggleable__label-arrow:before {color: black;}#sk-container-id-2 div.sk-toggleable__content {max-height: 0;max-width: 0;overflow: hidden;text-align: left;background-color: #f0f8ff;}#sk-container-id-2 div.sk-toggleable__content pre {margin: 0.2em;color: black;border-radius: 0.25em;background-color: #f0f8ff;}#sk-container-id-2 input.sk-toggleable__control:checked~div.sk-toggleable__content {max-height: 200px;max-width: 100%;overflow: auto;}#sk-container-id-2 input.sk-toggleable__control:checked~label.sk-toggleable__label-arrow:before {content: \"▾\";}#sk-container-id-2 div.sk-estimator input.sk-toggleable__control:checked~label.sk-toggleable__label {background-color: #d4ebff;}#sk-container-id-2 div.sk-label input.sk-toggleable__control:checked~label.sk-toggleable__label {background-color: #d4ebff;}#sk-container-id-2 input.sk-hidden--visually {border: 0;clip: rect(1px 1px 1px 1px);clip: rect(1px, 1px, 1px, 1px);height: 1px;margin: -1px;overflow: hidden;padding: 0;position: absolute;width: 1px;}#sk-container-id-2 div.sk-estimator {font-family: monospace;background-color: #f0f8ff;border: 1px dotted black;border-radius: 0.25em;box-sizing: border-box;margin-bottom: 0.5em;}#sk-container-id-2 div.sk-estimator:hover {background-color: #d4ebff;}#sk-container-id-2 div.sk-parallel-item::after {content: \"\";width: 100%;border-bottom: 1px solid gray;flex-grow: 1;}#sk-container-id-2 div.sk-label:hover label.sk-toggleable__label {background-color: #d4ebff;}#sk-container-id-2 div.sk-serial::before {content: \"\";position: absolute;border-left: 1px solid gray;box-sizing: border-box;top: 0;bottom: 0;left: 50%;z-index: 0;}#sk-container-id-2 div.sk-serial {display: flex;flex-direction: column;align-items: center;background-color: white;padding-right: 0.2em;padding-left: 0.2em;position: relative;}#sk-container-id-2 div.sk-item {position: relative;z-index: 1;}#sk-container-id-2 div.sk-parallel {display: flex;align-items: stretch;justify-content: center;background-color: white;position: relative;}#sk-container-id-2 div.sk-item::before, #sk-container-id-2 div.sk-parallel-item::before {content: \"\";position: absolute;border-left: 1px solid gray;box-sizing: border-box;top: 0;bottom: 0;left: 50%;z-index: -1;}#sk-container-id-2 div.sk-parallel-item {display: flex;flex-direction: column;z-index: 1;position: relative;background-color: white;}#sk-container-id-2 div.sk-parallel-item:first-child::after {align-self: flex-end;width: 50%;}#sk-container-id-2 div.sk-parallel-item:last-child::after {align-self: flex-start;width: 50%;}#sk-container-id-2 div.sk-parallel-item:only-child::after {width: 0;}#sk-container-id-2 div.sk-dashed-wrapped {border: 1px dashed gray;margin: 0 0.4em 0.5em 0.4em;box-sizing: border-box;padding-bottom: 0.4em;background-color: white;}#sk-container-id-2 div.sk-label label {font-family: monospace;font-weight: bold;display: inline-block;line-height: 1.2em;}#sk-container-id-2 div.sk-label-container {text-align: center;}#sk-container-id-2 div.sk-container {/* jupyter's `normalize.less` sets `[hidden] { display: none; }` but bootstrap.min.css set `[hidden] { display: none !important; }` so we also need the `!important` here to be able to override the default hidden behavior on the sphinx rendered scikit-learn.org. See: https://github.com/scikit-learn/scikit-learn/issues/21755 */display: inline-block !important;position: relative;}#sk-container-id-2 div.sk-text-repr-fallback {display: none;}</style><div id=\"sk-container-id-2\" class=\"sk-top-container\"><div class=\"sk-text-repr-fallback\"><pre>MultinomialNB()</pre><b>In a Jupyter environment, please rerun this cell to show the HTML representation or trust the notebook. <br />On GitHub, the HTML representation is unable to render, please try loading this page with nbviewer.org.</b></div><div class=\"sk-container\" hidden><div class=\"sk-item\"><div class=\"sk-estimator sk-toggleable\"><input class=\"sk-toggleable__control sk-hidden--visually\" id=\"sk-estimator-id-2\" type=\"checkbox\" checked><label for=\"sk-estimator-id-2\" class=\"sk-toggleable__label sk-toggleable__label-arrow\">MultinomialNB</label><div class=\"sk-toggleable__content\"><pre>MultinomialNB()</pre></div></div></div></div></div>"
      ],
      "text/plain": [
       "MultinomialNB()"
      ]
     },
     "execution_count": 47,
     "metadata": {},
     "output_type": "execute_result"
    }
   ],
   "source": [
    "#model training and prediction\n",
    "\n",
    "naive_bayes_classifier = MultinomialNB()\n",
    "naive_bayes_classifier.fit(tfidf_train_vectors, Y_train)"
   ]
  },
  {
   "cell_type": "code",
   "execution_count": 48,
   "id": "29df1d20",
   "metadata": {},
   "outputs": [
    {
     "name": "stdout",
     "output_type": "stream",
     "text": [
      "              precision    recall  f1-score   support\n",
      "\n",
      "          -1       0.61      0.30      0.41      2953\n",
      "           0       0.80      0.72      0.76     11732\n",
      "           1       0.69      0.85      0.76     11870\n",
      "\n",
      "    accuracy                           0.73     26555\n",
      "   macro avg       0.70      0.62      0.64     26555\n",
      "weighted avg       0.73      0.73      0.72     26555\n",
      "\n"
     ]
    }
   ],
   "source": [
    "Y_pred = naive_bayes_classifier.predict(tfidf_test_vectors)\n",
    "print(classification_report(Y_test, Y_pred)) #model evaluation"
   ]
  },
  {
   "cell_type": "code",
   "execution_count": 49,
   "id": "d68cfd8f",
   "metadata": {},
   "outputs": [],
   "source": [
    "# Evaluasi model\n",
    "accuracy = accuracy_score(Y_test, Y_pred)\n",
    "classification_rep = classification_report(Y_test, Y_pred)"
   ]
  },
  {
   "cell_type": "code",
   "execution_count": 73,
   "id": "36d72953",
   "metadata": {},
   "outputs": [
    {
     "name": "stdout",
     "output_type": "stream",
     "text": [
      "Accuracy: 0.7304085859536811\n",
      "\n",
      "Classification Report:\n",
      "              precision    recall  f1-score   support\n",
      "\n",
      "          -1       0.61      0.30      0.41      2953\n",
      "           0       0.80      0.72      0.76     11732\n",
      "           1       0.69      0.85      0.76     11870\n",
      "\n",
      "    accuracy                           0.73     26555\n",
      "   macro avg       0.70      0.62      0.64     26555\n",
      "weighted avg       0.73      0.73      0.72     26555\n",
      "\n"
     ]
    }
   ],
   "source": [
    "# Tampilkan hasil\n",
    "print(f'Accuracy: {accuracy}')\n",
    "print('\\nClassification Report:')\n",
    "print(classification_rep)"
   ]
  },
  {
   "cell_type": "code",
   "execution_count": 51,
   "id": "25eae3f8",
   "metadata": {},
   "outputs": [
    {
     "data": {
      "text/plain": [
       "<Axes: >"
      ]
     },
     "execution_count": 51,
     "metadata": {},
     "output_type": "execute_result"
    },
    {
     "data": {
      "image/png": "[encoded data removed]",
      "text/plain": [
       "<Figure size 640x480 with 2 Axes>"
      ]
     },
     "metadata": {},
     "output_type": "display_data"
    }
   ],
   "source": [
    "conf_matrix = confusion_matrix(Y_test, Y_pred)\n",
    "sns.heatmap(conf_matrix, annot = True, fmt = '', cmap = 'Blues')"
   ]
  },
  {
   "cell_type": "code",
   "execution_count": null,
   "id": "dbdd620d",
   "metadata": {},
   "outputs": [],
   "source": []
  },
  {
   "cell_type": "code",
   "execution_count": null,
   "id": "0937ea92",
   "metadata": {},
   "outputs": [],
   "source": []
  },
  {
   "cell_type": "code",
   "execution_count": 74,
   "id": "bbab26c8",
   "metadata": {},
   "outputs": [
    {
     "data": {
      "image/png": "[encoded data removed]",
      "text/plain": [
       "<Figure size 800x600 with 1 Axes>"
      ]
     },
     "metadata": {},
     "output_type": "display_data"
    }
   ],
   "source": [
    "# ...\n",
    "\n",
    "# Visualisasi Bar Chart untuk Akurasi Model dengan Keterangan Angka\n",
    "accuracy_values = [accuracy, 1 - accuracy]\n",
    "labels = ['Correct Predictions', 'Incorrect Predictions']\n",
    "\n",
    "plt.figure(figsize=(8, 6))\n",
    "bars = plt.bar(labels, accuracy_values, color=['green', 'red'])\n",
    "\n",
    "# Tambahkan keterangan angka di atas setiap bar\n",
    "for bar, value in zip(bars, accuracy_values):\n",
    "    plt.text(bar.get_x() + bar.get_width() / 2 - 0.1, bar.get_height() + 0.01, f'{value*100:.1f}%', ha='center', color='black')\n",
    "\n",
    "plt.title('Model Accuracy')\n",
    "plt.ylabel('Percentage')\n",
    "plt.show()\n"
   ]
  },
  {
   "cell_type": "code",
   "execution_count": 77,
   "id": "2b501a0b",
   "metadata": {},
   "outputs": [
    {
     "data": {
      "image/png": "[encoded data removed]",
      "text/plain": [
       "<Figure size 600x600 with 1 Axes>"
      ]
     },
     "metadata": {},
     "output_type": "display_data"
    }
   ],
   "source": [
    "# Hitung distribusi hasil prediksi\n",
    "prediction_distribution = pd.DataFrame({'Real': Y})\n",
    "prediction_counts = prediction_distribution['Real'].value_counts()\n",
    "\n",
    "# Visualisasi Pie Chart\n",
    "plt.figure(figsize=(6, 6))\n",
    "plt.pie(prediction_counts, labels=prediction_counts.index, autopct='%1.1f%%', colors=['skyblue', 'lightcoral','red'])\n",
    "plt.title('Distribution of Real Sentiments')\n",
    "plt.show()"
   ]
  },
  {
   "cell_type": "code",
   "execution_count": 55,
   "id": "949e845f",
   "metadata": {},
   "outputs": [
    {
     "data": {
      "image/png": "[encoded data removed]",
      "text/plain": [
       "<Figure size 600x600 with 1 Axes>"
      ]
     },
     "metadata": {},
     "output_type": "display_data"
    }
   ],
   "source": [
    "# Hitung distribusi hasil prediksi\n",
    "prediction_distribution = pd.DataFrame({'Predicted': Y_pred})\n",
    "prediction_counts = prediction_distribution['Predicted'].value_counts()\n",
    "\n",
    "# Visualisasi Pie Chart\n",
    "plt.figure(figsize=(6, 6))\n",
    "plt.pie(prediction_counts, labels=prediction_counts.index, autopct='%1.1f%%', colors=['skyblue', 'lightcoral','red'])\n",
    "plt.title('Distribution of Predicted Sentiments')\n",
    "plt.show()"
   ]
  },
  {
   "cell_type": "code",
   "execution_count": null,
   "id": "b1343f7b",
   "metadata": {},
   "outputs": [],
   "source": []
  },
  {
   "cell_type": "code",
   "execution_count": null,
   "id": "feac9f77",
   "metadata": {},
   "outputs": [],
   "source": []
  },
  {
   "cell_type": "code",
   "execution_count": null,
   "id": "92cec40a",
   "metadata": {},
   "outputs": [],
   "source": []
  },
  {
   "cell_type": "markdown",
   "id": "08d1aefc",
   "metadata": {},
   "source": [
    "Simpan model dan vektorisasi"
   ]
  },
  {
   "cell_type": "code",
   "execution_count": 25,
   "id": "6f7e8638",
   "metadata": {},
   "outputs": [],
   "source": [
    "import pickle"
   ]
  },
  {
   "cell_type": "code",
   "execution_count": 161,
   "id": "6f9513b4",
   "metadata": {},
   "outputs": [],
   "source": [
    "with open('modelNB.pickle', 'wb') as file:\n",
    "    pickle.dump(naive_bayes_classifier, file)"
   ]
  },
  {
   "cell_type": "code",
   "execution_count": 33,
   "id": "98926130",
   "metadata": {},
   "outputs": [],
   "source": [
    "with open('vectorizer.pickle', 'wb') as file:\n",
    "    pickle.dump(vectorizer, file)"
   ]
  },
  {
   "cell_type": "code",
   "execution_count": 28,
   "id": "e253a614",
   "metadata": {},
   "outputs": [],
   "source": [
    "with open('modelNB.pickle', 'rb') as file:\n",
    "    unpickled_model = pickle.load(file)"
   ]
  },
  {
   "cell_type": "code",
   "execution_count": 29,
   "id": "9eb22cd2",
   "metadata": {},
   "outputs": [],
   "source": [
    "with open('vectorizer.pickle', 'rb') as file:\n",
    "    unpickled_vektorisasi = pickle.load(file)"
   ]
  },
  {
   "cell_type": "code",
   "execution_count": 69,
   "id": "17559397",
   "metadata": {},
   "outputs": [],
   "source": [
    "new_text = [\"Saatnya tenggelamkan PDIP\"]\n",
    "new_text_vectorized = unpickled_vektorisasi.transform(X)"
   ]
  },
  {
   "cell_type": "code",
   "execution_count": 70,
   "id": "d60a8924",
   "metadata": {},
   "outputs": [],
   "source": [
    "new_prediction = unpickled_model.predict(new_text_vectorized)"
   ]
  },
  {
   "cell_type": "code",
   "execution_count": 71,
   "id": "c0000a42",
   "metadata": {},
   "outputs": [
    {
     "data": {
      "text/plain": [
       "array([0, 0, 1, ..., 0, 0, 1], dtype=int64)"
      ]
     },
     "execution_count": 71,
     "metadata": {},
     "output_type": "execute_result"
    }
   ],
   "source": [
    "new_prediction"
   ]
  },
  {
   "cell_type": "code",
   "execution_count": null,
   "id": "2c7fac50",
   "metadata": {},
   "outputs": [],
   "source": []
  }
 ],
 "metadata": {
  "kernelspec": {
   "display_name": "Python 3 (ipykernel)",
   "language": "python",
   "name": "python3"
  },
  "language_info": {
   "codemirror_mode": {
    "name": "ipython",
    "version": 3
   },
   "file_extension": ".py",
   "mimetype": "text/x-python",
   "name": "python",
   "nbconvert_exporter": "python",
   "pygments_lexer": "ipython3",
   "version": "3.11.5"
  }
 },
 "nbformat": 4,
 "nbformat_minor": 5
}
